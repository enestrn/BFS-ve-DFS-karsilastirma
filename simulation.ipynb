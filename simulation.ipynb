{
 "cells": [
  {
   "cell_type": "code",
   "execution_count": 36,
   "metadata": {},
   "outputs": [],
   "source": [
    "class Ortam:\n",
    "    def __init__(self):\n",
    "        # Her iki odanın durumu başta rastgele ayarlanacak\n",
    "        self.odalar = {'sol': 'kirli', 'sağ': 'kirli'}\n",
    "    \n",
    "    def temiz_mi(self):\n",
    "        # Tüm odalar temizse True döner\n",
    "        return all(oda == 'temiz' for oda in self.odalar.values())\n",
    "\n",
    "    def durumu_al(self, konum):\n",
    "        # Belirtilen odanın durumunu döner\n",
    "        return self.odalar[konum]\n",
    "\n",
    "    def temizle(self, konum):\n",
    "        # Belirtilen odayı temizler\n",
    "        self.odalar[konum] = 'temiz'"
   ]
  },
  {
   "cell_type": "code",
   "execution_count": 37,
   "metadata": {},
   "outputs": [],
   "source": [
    "import random\n",
    "\n",
    "class RastgeleAjan:\n",
    "    def __init__(self):\n",
    "        self.konum = 'sol'  # Başlangıçta ajan sol odada\n",
    "\n",
    "    def aksiyon_sec(self):\n",
    "        # Rastgele bir aksiyon seç: temizle, sağa git, sola git\n",
    "        return random.choice(['temizle', 'sağa git', 'sola git'])\n",
    "\n",
    "    def hareket_et(self, ortam):\n",
    "        aksiyon = self.aksiyon_sec()\n",
    "\n",
    "        if aksiyon == 'temizle':\n",
    "            if ortam.durumu_al(self.konum) == 'kirli':\n",
    "                ortam.temizle(self.konum)\n",
    "        elif aksiyon == 'sağa git':\n",
    "            self.konum = 'sağ'\n",
    "        elif aksiyon == 'sola git':\n",
    "            self.konum = 'sol'"
   ]
  },
  {
   "cell_type": "code",
   "execution_count": 38,
   "metadata": {},
   "outputs": [
    {
     "name": "stdout",
     "output_type": "stream",
     "text": [
      "Başarılı mı? True\n"
     ]
    }
   ],
   "source": [
    "def simule_et(ajan, ortam, turlar=10):\n",
    "    for i in range(turlar):\n",
    "        ajan.hareket_et(ortam)\n",
    "        if ortam.temiz_mi():\n",
    "            break\n",
    "\n",
    "    return ortam.temiz_mi()\n",
    "\n",
    "# Simülasyonu başlat\n",
    "ortam = Ortam()\n",
    "ajan = RastgeleAjan()\n",
    "sonuc = simule_et(ajan, ortam)\n",
    "print(\"Başarılı mı?\", sonuc)"
   ]
  },
  {
   "cell_type": "code",
   "execution_count": 39,
   "metadata": {},
   "outputs": [],
   "source": [
    "class TabloTabanliAjan:\n",
    "    def __init__(self):\n",
    "        self.konum = 'sol'\n",
    "        # Durum ve aksiyon eşlemeleri: (oda_durumu, aksiyon)\n",
    "        self.tablo = {\n",
    "            ('sol', 'kirli'): 'temizle',\n",
    "            ('sol', 'temiz'): 'sağa git',\n",
    "            ('sağ', 'kirli'): 'temizle',\n",
    "            ('sağ', 'temiz'): 'sola git'\n",
    "        }\n",
    "\n",
    "    def hareket_et(self, ortam):\n",
    "        oda_durumu = ortam.durumu_al(self.konum)\n",
    "        aksiyon = self.tablo[(self.konum, oda_durumu)]\n",
    "\n",
    "        if aksiyon == 'temizle':\n",
    "            ortam.temizle(self.konum)\n",
    "        elif aksiyon == 'sağa git':\n",
    "            self.konum = 'sağ'\n",
    "        elif aksiyon == 'sola git':\n",
    "            self.konum = 'sol'"
   ]
  },
  {
   "cell_type": "code",
   "execution_count": 40,
   "metadata": {},
   "outputs": [],
   "source": [
    "class RefleksAjan:\n",
    "    def __init__(self):\n",
    "        self.konum = 'sol'\n",
    "\n",
    "    def hareket_et(self, ortam):\n",
    "        oda_durumu = ortam.durumu_al(self.konum)\n",
    "\n",
    "        if oda_durumu == 'kirli':\n",
    "            ortam.temizle(self.konum)\n",
    "        elif self.konum == 'sol':\n",
    "            self.konum = 'sağ'\n",
    "        else:\n",
    "            self.konum = 'sol'"
   ]
  },
  {
   "cell_type": "code",
   "execution_count": 41,
   "metadata": {},
   "outputs": [],
   "source": [
    "class ModelTabanliAjan:\n",
    "    def __init__(self):\n",
    "        self.konum = 'sol'\n",
    "        self.oda_durumlari = {'sol': None, 'sağ': None}\n",
    "\n",
    "    def hareket_et(self, ortam):\n",
    "        # Bulunduğu odanın durumu ile modeli güncelle\n",
    "        self.oda_durumlari[self.konum] = ortam.durumu_al(self.konum)\n",
    "\n",
    "        # Eğer bulunduğu oda kirli ise temizle\n",
    "        if self.oda_durumlari[self.konum] == 'kirli':\n",
    "            ortam.temizle(self.konum)\n",
    "            self.oda_durumlari[self.konum] = 'temiz'\n",
    "        # Eğer oda temizse diğer odaya geç\n",
    "        elif self.konum == 'sol':\n",
    "            self.konum = 'sağ'\n",
    "        else:\n",
    "            self.konum = 'sol'"
   ]
  },
  {
   "cell_type": "code",
   "execution_count": 42,
   "metadata": {},
   "outputs": [
    {
     "name": "stdout",
     "output_type": "stream",
     "text": [
      "Rastgele Ajan Başarı Oranı: 0.5\n",
      "Tablo Tabanlı Ajan Başarı Oranı: 1.0\n",
      "Refleks Ajan Başarı Oranı: 1.0\n",
      "Model Tabanlı Ajan Başarı Oranı: 1.0\n"
     ]
    }
   ],
   "source": [
    "def basari_orani(ajan_sinifi, deneme_sayisi=10):\n",
    "    basari = 0\n",
    "    for _ in range(deneme_sayisi):\n",
    "        ortam = Ortam()\n",
    "        ajan = ajan_sinifi()\n",
    "        sonuc = simule_et(ajan, ortam)\n",
    "        if sonuc:\n",
    "            basari += 1\n",
    "    return basari / deneme_sayisi\n",
    "\n",
    "# Ajanların başarı oranlarını hesapla\n",
    "print(\"Rastgele Ajan Başarı Oranı:\", basari_orani(RastgeleAjan))\n",
    "print(\"Tablo Tabanlı Ajan Başarı Oranı:\", basari_orani(TabloTabanliAjan))\n",
    "print(\"Refleks Ajan Başarı Oranı:\", basari_orani(RefleksAjan))\n",
    "print(\"Model Tabanlı Ajan Başarı Oranı:\", basari_orani(ModelTabanliAjan))"
   ]
  }
 ],
 "metadata": {
  "kernelspec": {
   "display_name": "base",
   "language": "python",
   "name": "python3"
  },
  "language_info": {
   "codemirror_mode": {
    "name": "ipython",
    "version": 3
   },
   "file_extension": ".py",
   "mimetype": "text/x-python",
   "name": "python",
   "nbconvert_exporter": "python",
   "pygments_lexer": "ipython3",
   "version": "3.11.7"
  }
 },
 "nbformat": 4,
 "nbformat_minor": 2
}
